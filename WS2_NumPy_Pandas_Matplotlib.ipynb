{
  "nbformat": 4,
  "nbformat_minor": 0,
  "metadata": {
    "colab": {
      "name": "WS2_NumPy_Pandas_Matplotlib.ipynb",
      "provenance": [],
      "collapsed_sections": [],
      "include_colab_link": true
    },
    "kernelspec": {
      "name": "python3",
      "display_name": "Python 3"
    }
  },
  "cells": [
    {
      "cell_type": "markdown",
      "metadata": {
        "id": "view-in-github",
        "colab_type": "text"
      },
      "source": [
        "<a href=\"https://colab.research.google.com/github/phusitsiriyakorn/Problem-Solving-01/blob/master/WS2_NumPy_Pandas_Matplotlib.ipynb\" target=\"_parent\"><img src=\"https://colab.research.google.com/assets/colab-badge.svg\" alt=\"Open In Colab\"/></a>"
      ]
    },
    {
      "cell_type": "markdown",
      "metadata": {
        "id": "zDmG--A6RZbA"
      },
      "source": [
        "#**Workshop 2**\n",
        "**https://is.gd/PN5U1T**\n",
        "#**Introduction to NumPy, Pandas, and Matplotlib**\n",
        "\n",
        "Day 1 [22 July 2020]"
      ]
    },
    {
      "cell_type": "markdown",
      "metadata": {
        "id": "EvYGz6ISTZTJ"
      },
      "source": [
        "เขียนและเรียบเรียงโดย คุณครูพี่จ๊ะ (ดร.กาญจนา แสงทองพัฒนา )\n",
        "\n",
        "kanchana.sae@nectec.or.th\n",
        "\n",
        "สร้างเมื่อ 11 กรกฎาคม 2563\n",
        "\n",
        ">สำหรับการอบรมแบบออนไลน์ ภายใต้โครงการ การอบรบเรื่อง \n",
        "\n",
        "> \"**Introduction to machine learning with python**\"\n",
        "\n",
        "> ร่วมกับ ผศ.ดร. วันทนี ประจวบศุภกิจ และ ดร. ธนพล ตันติศรีปรีชา\n",
        "\n",
        ">>ให้กับนักศึกษา สาขาวิชาวิทยาการคอมพิวเตอร์ คณะวิทยาศาสตร์\n",
        "\n",
        ">>สถาบันเทคโนโลยีพระจอมเกล้าเจ้าคุณทหารลาดกระบัง\n",
        "\n",
        ">>วันที่ 22 - 24 กรกฎาคม 2563"
      ]
    },
    {
      "cell_type": "markdown",
      "metadata": {
        "id": "l9bQLM1UgLKb"
      },
      "source": [
        "'* *การเรียบเรียง เป็นการนำความรู้จากหลาย ๆ แหล่งข้อมูลที่มีอยู่แล้ว มาปรับใช้ ปรับการเขียน ให้เหมาะสมกับการให้ความรู้แก่นักศึกษาในการอบรมครั้งนี้ ขอขอบคุณ และขออนุญาต ทุกแหล่งความรู้ที่ได้นำมาใช้ ณ ที่นี้ด้วยค่ะ*"
      ]
    },
    {
      "cell_type": "markdown",
      "metadata": {
        "id": "oVqOEE2YTphf"
      },
      "source": [
        "# **บทนำ**\n",
        "ในหัวข้อนี้ นักศึกษาจะได้ทำความรู้จักกับ NumPy, Pandas, และ Matplotlib ซึ่งเป็น Library ของการเขียนโปรแกรมด้วยภาษา Python เพื่อนำไปใช้ประโยชน์ในงานด้าน Machine Learning อีกทั้ง Library ดังกล่าวถูกใช้อย่างแพร่หลายในงานด้าน data science ด้วย\n",
        "\n"
      ]
    },
    {
      "cell_type": "markdown",
      "source": [
        "# การนำเข้า Dataset File"
      ],
      "metadata": {
        "id": "vTvtHYTgBRqk"
      }
    },
    {
      "cell_type": "markdown",
      "source": [
        "\n",
        "เช่น ในตัวอย่าง google drive เก็บไฟล์ wine_data.csv ไว้ใน folder ชื่อ dataset\n",
        "\n",
        "จากนั้น เราจะทำการ drive mount\n",
        "\n",
        "drive mount\n",
        "เพื่อเชื่อมโยง google drive ของเรากับ coloab เพื่อให้โปรแกรมที่เราเขียน มองเห็นไฟล์ใน google drive ได้ จะได้อ้างอิงและนำข้อมูลมาใช้งาน\n",
        "\n",
        "เราใช้ from google.colab import drive ตามตัวอย่างนี้\n",
        "\n",
        "\n",
        "\n"
      ],
      "metadata": {
        "id": "qRrrDR8jApgN"
      }
    },
    {
      "cell_type": "code",
      "source": [
        "from google.colab import drive\n",
        "drive.mount('/content/drive') #ระวังเครื่องหมาย ‘ กับ ' ต่างกันนะคะ"
      ],
      "metadata": {
        "id": "KPSitl_uA8hb"
      },
      "execution_count": null,
      "outputs": []
    },
    {
      "cell_type": "markdown",
      "source": [
        "ตอน run ด้านบนนี้ จะมีข้อความ เช่น\n",
        "\n",
        "Go to this URL in a browser: https://accounts.google.com/o/oauth2/auth?client_id=947xxxxxxxxfpeopleapi.readonly\n",
        "\n",
        "Enter your authorization code:\n",
        "\n",
        "ให้คลิกที่ link ดังกล่าว หน้าต่างของ google จะปรากฎขึ้นมาให้\n",
        "\n",
        "เพื่อให้เราอนุญาตให้ Google Drive File Stream มีการเข้าถึงบัญชี Google ของเราได้\n",
        "\n",
        "ให้ตอบตกลง\n",
        "\n",
        "จากนั้นจะปรากฎหน้าที่แสดงข้อความว่า\n",
        "\n",
        "\"\n",
        "\n",
        "ลงชื่อเข้าใช้งาน\n",
        "\n",
        "โปรดคัดลอกโค้ดนี้ไว้ สลับไปที่แอปพลิเคชันของคุณแล้ววางโค้ดลงไป:\n",
        "\n",
        "4/1wHM128b4roXxxxxxxxxxxxxxxxxxxxx\n",
        "\n",
        "\"\n",
        "\n",
        "ให้เรา copy โค้ท ของเรา เช่น 4/1wHM128b4roXxxxxxxxxxxxxxxxxxxxx**\n",
        "\n",
        "มาวางในช่อง\n",
        "\n",
        "Enter your authorization code:\n",
        "\n",
        "เมื่อ run เสร็จเรียบร้อยแล้วจะมีข้อความ\n",
        "\n",
        "Mounted at /content/drive\n",
        "\n",
        "จากนั้น ให้สังเกตที่ด้านซ้ายมือของหน้าต่าง colab มีสัญลักษณ์รูป Folder Files\n",
        "\n",
        "ให้คลิกเลือกที่สัญลักษณ์ดังกล่าว จากนั้น colab จะแสดงรายการ drive และ files ต่างๆ\n",
        "\n",
        "ให้เราเลือกเข้าไปที่ files ที่ต้องการ เมื่อเจอแล้ว ให้คลิกขวาที่ไฟล์นั้่น แล้วเลือก copy path เอาไปวางใน code ตัวอย่างด้านล่างต่อจากนี้\n",
        "\n",
        "ถ้านักศึกษา มองภาพไม่ออก ขอให้ดูตัวอย่างได้จากคลิปในยูทูปนี้ นะคะ\n",
        "\n",
        "https://www.youtube.com/watch?v=TDyfhlg23vs&feature=youtu.be\n",
        "\n",
        "ขอขอบคุณคลิปนี้ด้วยค่ะ\n",
        "\n",
        "** หากเกิดปัญหา มองไม่เห็น drive **\n",
        "\n",
        "ให้สังเกต ด้านซ้ายมือของหน้าต่าง colab มีสัญลักษณ์รูป Folder\n",
        "\n",
        "เมื่อคลิกเลือกเข้าไป จะมีสัญลักษณ์ในรูป Folder 3 แบบ แบบที่มีหัวลูกศรขึ้น (upload), แบบมีหัวลูกศรวน (refresh), และแบบมีสัญสามเหลี่ยมใน folder (munt drive)\n",
        "\n",
        "หากสัญลักษณ์รูป Folder แบบมีสามเหลี่ยมใน folder (mount drive) ไม่มีขีดทับบนสัญลักษณ์ ให้กดที่รูปนั้น เพื่อให้เกิดการ mount drive ก็จะมองเห็น folder แสดง path content > drive > My Drive > และ folder หรือ file ใน Google Drive ของตัวเราเอง ได้\n"
      ],
      "metadata": {
        "id": "YkTw1OysA856"
      }
    },
    {
      "cell_type": "markdown",
      "metadata": {
        "id": "nHwBjTgfUmGN"
      },
      "source": [
        "# **numpy**\n",
        "numpy เป็น library ที่ช่วยให้เราจัดการกับอาเรย์หลายมิติได้โดยง่ายขึ้น \n",
        "\n",
        "ภาษา Python ไม่มีข้อมูลชนิด array แต่สามารถใช้ list แทนได้ แต่หากใช้ numpy ก็จะทำให้ใช้ข้อมูลชนิด array ได้ และทำงานกับข้อมูลอาเรย์หลายมิติก็ได้โดยง่ายไปอีก\n",
        "\n",
        "ข้อแตกต่างระหว่าง array กับ list คือ array จะต้องประกอบด้วยข้อมูลเพียงชนิดเดียวเท่านั้น เรามักเห็นเป็นตัวเลขหมด เพราะมักใช้ในการคำนวณใน Machine Learning\n",
        "\n",
        "numpy จะสร้าง array สำหรับเก็บข้อมูล โดยใช้ pointer ตัวเดียวชี้ไปที่ array นั้น ซึ่งทำให้ numpy มีประสิทธิภาพสูงสำหรับการทำการจัดการข้อมูลลักษณะนี้\n",
        "\n",
        "numpy ถูกติดตั้งมาพร้อมกับการติดตั้ง Pyhton แล้ว เราจึงเรียกใช้งานได้เลย\n",
        "\n",
        "ถ้ายังไม่มีการติดตั้งมา ให้ติดตั้งโดยใช้คำสั่ง เช่น\n",
        "```\n",
        "pip install numpy\n",
        "```"
      ]
    },
    {
      "cell_type": "markdown",
      "metadata": {
        "id": "Nvi6my4gWs3b"
      },
      "source": [
        "การเรียใช้ numpy เข้ามาที่โปรแกรมหลักของเรา ทำได้โดย"
      ]
    },
    {
      "cell_type": "code",
      "metadata": {
        "id": "HDnvNVDgWu9N"
      },
      "source": [
        "import numpy as np"
      ],
      "execution_count": null,
      "outputs": []
    },
    {
      "cell_type": "markdown",
      "metadata": {
        "id": "o6onSnZ6D_yU"
      },
      "source": [
        "ต่อไปนี้ เราจะสามารถใช้ np แทน numpy ได้ตลอดทั้งโปรแกรม"
      ]
    },
    {
      "cell_type": "markdown",
      "metadata": {
        "id": "wYT0RH6XZFoN"
      },
      "source": [
        "### Creating an array"
      ]
    },
    {
      "cell_type": "markdown",
      "metadata": {
        "id": "u7YdGl2pYH2R"
      },
      "source": [
        "**Creating a single-dimensional array**"
      ]
    },
    {
      "cell_type": "code",
      "metadata": {
        "id": "WZbrOnUBYWZV",
        "colab": {
          "base_uri": "https://localhost:8080/",
          "height": 34
        },
        "outputId": "bb65ae1d-7a29-4a27-9f0b-18bd5ce57f6e"
      },
      "source": [
        "a = np.array([1,2,3]) # Calling the array function\n",
        "print(a)"
      ],
      "execution_count": null,
      "outputs": [
        {
          "output_type": "stream",
          "text": [
            "[1 2 3]\n"
          ],
          "name": "stdout"
        }
      ]
    },
    {
      "cell_type": "markdown",
      "metadata": {
        "id": "T1bxEsHgYg9k"
      },
      "source": [
        "**Creating a multi-dimensional array**\n",
        "\n",
        "Each set of elements within a square bracket indicates a row\n",
        "\n",
        "Array of two rows and two columns"
      ]
    },
    {
      "cell_type": "code",
      "metadata": {
        "id": "_iWO503jYdUe",
        "colab": {
          "base_uri": "https://localhost:8080/",
          "height": 52
        },
        "outputId": "96c5fadd-e3f2-4ce2-df43-63bfa2e6769a"
      },
      "source": [
        "b = np.array([[1,2], [3,4]])\n",
        "print(b)"
      ],
      "execution_count": null,
      "outputs": [
        {
          "output_type": "stream",
          "text": [
            "[[1 2]\n",
            " [3 4]]\n"
          ],
          "name": "stdout"
        }
      ]
    },
    {
      "cell_type": "markdown",
      "metadata": {
        "id": "V5NBrUCRZWj7"
      },
      "source": [
        "**Creating an ndarray by wrapping a list**"
      ]
    },
    {
      "cell_type": "code",
      "metadata": {
        "id": "Aa5Ic9uuZYpe",
        "colab": {
          "base_uri": "https://localhost:8080/",
          "height": 52
        },
        "outputId": "8f18eb9c-a18d-4a7b-972a-6b2a688b524a"
      },
      "source": [
        "list1 = [1,2,3,4,5] # Creating a list\n",
        "myarray = np.array(list1) # Wrapping the list\n",
        "print(list1)\n",
        "print(myarray)"
      ],
      "execution_count": null,
      "outputs": [
        {
          "output_type": "stream",
          "text": [
            "[1, 2, 3, 4, 5]\n",
            "[1 2 3 4 5]\n"
          ],
          "name": "stdout"
        }
      ]
    },
    {
      "cell_type": "markdown",
      "metadata": {
        "id": "eWL6Y0VYZqAn"
      },
      "source": [
        "**Creating an array of numbers of a specified range**"
      ]
    },
    {
      "cell_type": "code",
      "metadata": {
        "id": "Hc0dEwo5Zttm",
        "colab": {
          "base_uri": "https://localhost:8080/",
          "height": 87
        },
        "outputId": "6069ead9-6857-4cb1-b4ef-48fee7b973cf"
      },
      "source": [
        "myarray1 = np.arange(10, 100) # Array of numbers from 10 up to and excluding 100\n",
        "print(myarray1)"
      ],
      "execution_count": null,
      "outputs": [
        {
          "output_type": "stream",
          "text": [
            "[10 11 12 13 14 15 16 17 18 19 20 21 22 23 24 25 26 27 28 29 30 31 32 33\n",
            " 34 35 36 37 38 39 40 41 42 43 44 45 46 47 48 49 50 51 52 53 54 55 56 57\n",
            " 58 59 60 61 62 63 64 65 66 67 68 69 70 71 72 73 74 75 76 77 78 79 80 81\n",
            " 82 83 84 85 86 87 88 89 90 91 92 93 94 95 96 97 98 99]\n"
          ],
          "name": "stdout"
        }
      ]
    },
    {
      "cell_type": "markdown",
      "metadata": {
        "id": "Kx7zRw53Z2dR"
      },
      "source": [
        "**Creating a 5x5 array of zeroes**"
      ]
    },
    {
      "cell_type": "code",
      "metadata": {
        "id": "jp9ICm98Z4Wg",
        "colab": {
          "base_uri": "https://localhost:8080/",
          "height": 104
        },
        "outputId": "fbd8a963-8085-4f50-9318-2d70cb7edd7d"
      },
      "source": [
        "arr2 = np.zeros((5,5))\n",
        "print(arr2)"
      ],
      "execution_count": null,
      "outputs": [
        {
          "output_type": "stream",
          "text": [
            "[[0. 0. 0. 0. 0.]\n",
            " [0. 0. 0. 0. 0.]\n",
            " [0. 0. 0. 0. 0.]\n",
            " [0. 0. 0. 0. 0.]\n",
            " [0. 0. 0. 0. 0.]]\n"
          ],
          "name": "stdout"
        }
      ]
    },
    {
      "cell_type": "markdown",
      "metadata": {
        "id": "uQTvG-UOaC3l"
      },
      "source": [
        "**Creating a linearly spaced vector, with spacing**"
      ]
    },
    {
      "cell_type": "code",
      "metadata": {
        "id": "zmG7uDDEaJUk",
        "colab": {
          "base_uri": "https://localhost:8080/",
          "height": 35
        },
        "outputId": "4d7a2160-41db-476a-8e26-3b64069133ad"
      },
      "source": [
        "vector = np.linspace(0, 20, 5) # Start, stop, step\n",
        "print(vector)"
      ],
      "execution_count": null,
      "outputs": [
        {
          "output_type": "stream",
          "text": [
            "[ 0.  5. 10. 15. 20.]\n"
          ],
          "name": "stdout"
        }
      ]
    },
    {
      "cell_type": "markdown",
      "metadata": {
        "id": "2q64WXBBabJ_"
      },
      "source": [
        "**Creating Arrays from Existing Data**"
      ]
    },
    {
      "cell_type": "code",
      "metadata": {
        "id": "vUF9E3iCadI4",
        "colab": {
          "base_uri": "https://localhost:8080/",
          "height": 35
        },
        "outputId": "7b88f90a-fbc2-41b5-e394-5c04073e6ebb"
      },
      "source": [
        "x = [1,2,3]\n",
        "# Used for converting Python sequences into ndarrays\n",
        "c = np.asarray(x) #np.asarray(a, dtype = None, order = None)\n",
        "print(c)"
      ],
      "execution_count": null,
      "outputs": [
        {
          "output_type": "stream",
          "text": [
            "[1 2 3]\n"
          ],
          "name": "stdout"
        }
      ]
    },
    {
      "cell_type": "markdown",
      "metadata": {
        "id": "--tvokWfal9K"
      },
      "source": [
        "**Converting a linear array of 8 elements into a 2x2x2 3D array**"
      ]
    },
    {
      "cell_type": "code",
      "metadata": {
        "id": "_b40hiFOanP8",
        "colab": {
          "base_uri": "https://localhost:8080/",
          "height": 119
        },
        "outputId": "9af383ad-3b2f-4ad2-b589-b11aa2060c91"
      },
      "source": [
        "myarray1 = np.zeros(8) # Flat array of eight zeroes\n",
        "myarray2 = myarray1.reshape((2,2,2)) # Restructured array\n",
        "print(myarray1)\n",
        "print(myarray2)"
      ],
      "execution_count": null,
      "outputs": [
        {
          "output_type": "stream",
          "text": [
            "[0. 0. 0. 0. 0. 0. 0. 0.]\n",
            "[[[0. 0.]\n",
            "  [0. 0.]]\n",
            "\n",
            " [[0. 0.]\n",
            "  [0. 0.]]]\n"
          ],
          "name": "stdout"
        }
      ]
    },
    {
      "cell_type": "markdown",
      "metadata": {
        "id": "IyS8jiBoav3V"
      },
      "source": [
        " **Flatten rgw 3d array to get back the linear array**"
      ]
    },
    {
      "cell_type": "code",
      "metadata": {
        "id": "if2Oo1cYax6l",
        "colab": {
          "base_uri": "https://localhost:8080/",
          "height": 34
        },
        "outputId": "33cbbba7-6c05-4221-d226-eb4b1c9f661a"
      },
      "source": [
        "myarray3 = myarray2.ravel()\n",
        "print(myarray3)"
      ],
      "execution_count": null,
      "outputs": [
        {
          "output_type": "stream",
          "text": [
            "[0. 0. 0. 0. 0. 0. 0. 0.]\n"
          ],
          "name": "stdout"
        }
      ]
    },
    {
      "cell_type": "markdown",
      "metadata": {
        "id": "-vOvzpRRa3TB"
      },
      "source": [
        "###**Indexing of numpy arrays**\n",
        "\n",
        "NumPy array indexing is identical to Python's indexing scheme"
      ]
    },
    {
      "cell_type": "code",
      "metadata": {
        "id": "YzRgyIQ9a63y",
        "colab": {
          "base_uri": "https://localhost:8080/",
          "height": 51
        },
        "outputId": "c06219e7-6cf8-402b-8299-0c8848cb21a1"
      },
      "source": [
        "myarray = np.arange(2, 20)\n",
        "print(myarray)\n",
        "element = myarray[6]\n",
        "print(element)"
      ],
      "execution_count": null,
      "outputs": [
        {
          "output_type": "stream",
          "text": [
            "[ 2  3  4  5  6  7  8  9 10 11 12 13 14 15 16 17 18 19]\n",
            "8\n"
          ],
          "name": "stdout"
        }
      ]
    },
    {
      "cell_type": "markdown",
      "metadata": {
        "id": "4z_kXO-abLY-"
      },
      "source": [
        "Python's concept of lists slicing is extended to NumPy.The slice object is constructed by providing start, stop, and step parameters to slice()"
      ]
    },
    {
      "cell_type": "code",
      "metadata": {
        "id": "JQ6_WSYCbOsS",
        "colab": {
          "base_uri": "https://localhost:8080/",
          "height": 68
        },
        "outputId": "cc61cfce-7275-45ca-faf9-58eb73d208e4"
      },
      "source": [
        "myarray = np.arange(20)\n",
        "myarray_slice = slice(1, 10, 2) # Start, stop & step สไลส์ไปทีละ 2 ตัว เริ่มจาก 1 ถึง 10\n",
        "myelement = myarray[6]\n",
        "print(myarray)\n",
        "print(myarray[myarray_slice])\n",
        "print(myelement)"
      ],
      "execution_count": null,
      "outputs": [
        {
          "output_type": "stream",
          "text": [
            "[ 0  1  2  3  4  5  6  7  8  9 10 11 12 13 14 15 16 17 18 19]\n",
            "[1 3 5 7 9]\n",
            "6\n"
          ],
          "name": "stdout"
        }
      ]
    },
    {
      "cell_type": "markdown",
      "metadata": {
        "id": "27d80XLybVsT"
      },
      "source": [
        "Slicing items beginning with a specified index"
      ]
    },
    {
      "cell_type": "code",
      "metadata": {
        "id": "rP6sUl60bWoY",
        "colab": {
          "base_uri": "https://localhost:8080/",
          "height": 34
        },
        "outputId": "81cf2e18-8b78-48eb-916f-8cd93bb7b710"
      },
      "source": [
        "a = np.arange(20)\n",
        "print(myarray[2:])"
      ],
      "execution_count": null,
      "outputs": [
        {
          "output_type": "stream",
          "text": [
            "[ 2  3  4  5  6  7  8  9 10 11 12 13 14 15 16 17 18 19]\n"
          ],
          "name": "stdout"
        }
      ]
    },
    {
      "cell_type": "markdown",
      "metadata": {
        "id": "iu9-9exgba4h"
      },
      "source": [
        "Slicing items until a specified index"
      ]
    },
    {
      "cell_type": "code",
      "metadata": {
        "id": "jng4k79qbbWp",
        "colab": {
          "base_uri": "https://localhost:8080/",
          "height": 34
        },
        "outputId": "ef13fc46-a91f-452a-fcb8-f48c0516325b"
      },
      "source": [
        "print(myarray[:15])"
      ],
      "execution_count": null,
      "outputs": [
        {
          "output_type": "stream",
          "text": [
            "[ 0  1  2  3  4  5  6  7  8  9 10 11 12 13 14]\n"
          ],
          "name": "stdout"
        }
      ]
    },
    {
      "cell_type": "markdown",
      "metadata": {
        "id": "BZ_bbfh4bgpP"
      },
      "source": [
        "Extracting specific rows and columns using Slicing"
      ]
    },
    {
      "cell_type": "code",
      "metadata": {
        "id": "TOqESEh8bhhE",
        "colab": {
          "base_uri": "https://localhost:8080/",
          "height": 102
        },
        "outputId": "89ac9cb1-8837-4e6e-faf9-3ed924e34e31"
      },
      "source": [
        "d = np.array([[1,2,3], [3,4,5], [4,5,6]])\n",
        "print(d)\n",
        "print(d[0:2, 0:2]) # Slice the first two rows and the first two columns"
      ],
      "execution_count": null,
      "outputs": [
        {
          "output_type": "stream",
          "text": [
            "[[1 2 3]\n",
            " [3 4 5]\n",
            " [4 5 6]]\n",
            "[[1 2]\n",
            " [3 4]]\n"
          ],
          "name": "stdout"
        }
      ]
    },
    {
      "cell_type": "markdown",
      "metadata": {
        "id": "MEm5BjCzblyT"
      },
      "source": [
        "###**numpy array attributes**"
      ]
    },
    {
      "cell_type": "code",
      "metadata": {
        "id": "O3pgKB-Kbo07",
        "colab": {
          "base_uri": "https://localhost:8080/",
          "height": 68
        },
        "outputId": "dd42fff2-d83d-4ad1-f121-bb53a695274b"
      },
      "source": [
        "print(d.shape) # Returns a tuple consisting of array dimensions\n",
        "print(d.ndim) # Attribute returns the number of array dimensions\n",
        "print(d.itemsize) # Returns the length of each element of array in bytes"
      ],
      "execution_count": null,
      "outputs": [
        {
          "output_type": "stream",
          "text": [
            "(3, 3)\n",
            "2\n",
            "8\n"
          ],
          "name": "stdout"
        }
      ]
    },
    {
      "cell_type": "markdown",
      "metadata": {
        "id": "uFq6Z5x3bx6N"
      },
      "source": [
        "Creates an uninitialized array of specified shape and dtype"
      ]
    },
    {
      "cell_type": "code",
      "metadata": {
        "id": "w5PFS47lbvZm",
        "colab": {
          "base_uri": "https://localhost:8080/",
          "height": 68
        },
        "outputId": "59b1db39-3f25-45e8-ab3d-001689f44d30"
      },
      "source": [
        "y = np.empty([3,2], dtype = int) \n",
        "print(y)"
      ],
      "execution_count": null,
      "outputs": [
        {
          "output_type": "stream",
          "text": [
            "[[50064912        0]\n",
            " [       0        0]\n",
            " [       0        0]]\n"
          ],
          "name": "stdout"
        }
      ]
    },
    {
      "cell_type": "markdown",
      "metadata": {
        "id": "RxF49676cDKX"
      },
      "source": [
        "Returns a new array of specified size, filled with zeros"
      ]
    },
    {
      "cell_type": "code",
      "metadata": {
        "id": "WuU14qRYcDwW",
        "colab": {
          "base_uri": "https://localhost:8080/",
          "height": 34
        },
        "outputId": "380f4a34-863f-496f-ee04-b91530296a4f"
      },
      "source": [
        "z = np.zeros(5) # np.zeros(shape, dtype = float)\n",
        "print(z)"
      ],
      "execution_count": null,
      "outputs": [
        {
          "output_type": "stream",
          "text": [
            "[0. 0. 0. 0. 0.]\n"
          ],
          "name": "stdout"
        }
      ]
    },
    {
      "cell_type": "markdown",
      "metadata": {
        "id": "Crhc5tHHUjLf"
      },
      "source": [
        "## Basic Statistics\n",
        "ในหัวข้อ numpy นี้ ต้องการให้นักศึกษาทำความคุ้นเคยกับ numpy\n",
        "\n",
        "เพื่อประโยชน์ในการทำมาวิเคราะห์ข้อมูล\n",
        "\n",
        "numpy มีคำสั่งทางด้านสถิติหลายคำสั่ง ให้คำนวณได้อย่างง่าย เช่น\n",
        "\n",
        "np.mean() ได้ค่าเฉลี่ยเลขคณิต \n",
        "\n",
        "np.median() ได้ค่ามัธยฐาน \n",
        "\n",
        "np.corrcoef() ใช้เมื่อต้องการดูว่ามีความสัมพันธ์ระหว่างสองตัวแปรในชุดข้อมูลของเราหรือกับคำอื่น ๆ ระหว่างสองอาร์เรย์ที่มีความยาวเท่ากัน\n",
        "\n",
        "np.std() ได้ค่าเบี่ยงเบนมาตรฐาน\n",
        "\n",
        "ตัวอย่าง"
      ]
    },
    {
      "cell_type": "code",
      "metadata": {
        "id": "KSLJsOsfV4FP",
        "colab": {
          "base_uri": "https://localhost:8080/",
          "height": 102
        },
        "outputId": "024439d6-cc5e-40a9-8dcd-453da81d6ab7"
      },
      "source": [
        "learning_hours = [1, 2, 6, 4, 10]\n",
        "grades = [3, 4, 6, 5, 6]\n",
        "\n",
        "a = np.mean(learning_hours)   # 4.6\n",
        "b = np.median(learning_hours) # 4.0\n",
        "c = np.std(learning_hours)    # 3.2\n",
        "d = np.corrcoef(learning_hours, grades) \n",
        "\n",
        "print(a)\n",
        "print(b)\n",
        "print(c)\n",
        "print(d)"
      ],
      "execution_count": null,
      "outputs": [
        {
          "output_type": "stream",
          "text": [
            "4.6\n",
            "4.0\n",
            "3.2\n",
            "[[1.         0.88964891]\n",
            " [0.88964891 1.        ]]\n"
          ],
          "name": "stdout"
        }
      ]
    },
    {
      "cell_type": "markdown",
      "metadata": {
        "id": "-phlQVy_W4_T"
      },
      "source": [
        "##matrix"
      ]
    },
    {
      "cell_type": "code",
      "metadata": {
        "id": "tQvKsq7JXAR_",
        "colab": {
          "base_uri": "https://localhost:8080/",
          "height": 187
        },
        "outputId": "3b104d76-39ec-455c-f7a9-9afdeef51d7d"
      },
      "source": [
        "A = np.matrix('1.0 2.0; 3.0 4.0')\n",
        "print(A)\n",
        "type(A) \n",
        "print(A.T) # เมทริกซ์สลับเปลี่ยน (transpose)\n",
        "X = np.matrix('5.0 7.0')\n",
        "Y = X.T\n",
        "print(Y)\n",
        "\n",
        "print(A*Y) # การคูณเมทริกซ์\n",
        "\n",
        "print(A.I) # อินเวอร์สของเมทริกซ์"
      ],
      "execution_count": null,
      "outputs": [
        {
          "output_type": "stream",
          "text": [
            "[[1. 2.]\n",
            " [3. 4.]]\n",
            "[[1. 3.]\n",
            " [2. 4.]]\n",
            "[[5.]\n",
            " [7.]]\n",
            "[[19.]\n",
            " [43.]]\n",
            "[[-2.   1. ]\n",
            " [ 1.5 -0.5]]\n"
          ],
          "name": "stdout"
        }
      ]
    },
    {
      "cell_type": "markdown",
      "metadata": {
        "id": "qjuJpDj_Uj23"
      },
      "source": [
        "# **pandas**\n",
        "\n",
        "ย่อมาจากคำว่า “panel data” \n",
        "\n",
        "https://pypi.org/project/pandas/\n",
        "\n",
        "ความสามารถของตัว pandas จัดการข้อมูลที่อยู่รูปแบบ tabular หรือในรูปแบบตาราง\n",
        "\n",
        "pandas เป็น library ที่เสริมความสามารถของ numpy ให้มากขึ้น\n",
        "\n",
        "เราได้เข้าใจพื้นฐานของ array มาจาก numpy มาแล้ว\n",
        "\n",
        "pandas อาจจะยังไม่ถูกติดตั้งมาพร้อม Python ดังนั้นจำเป็นจะต้องติดตั้งลงเครื่องก่อน เช่น\n",
        "```\n",
        "pip install pandas\n",
        "```"
      ]
    },
    {
      "cell_type": "markdown",
      "metadata": {
        "id": "DBQYMhU8Z8aO"
      },
      "source": [
        "import numpy as np\n",
        "\n",
        "import pandas as pd"
      ]
    },
    {
      "cell_type": "code",
      "metadata": {
        "id": "-B94966WcwUP"
      },
      "source": [
        "import pandas as pd"
      ],
      "execution_count": null,
      "outputs": []
    },
    {
      "cell_type": "markdown",
      "metadata": {
        "id": "cJ1WHxYdbG4M"
      },
      "source": [
        "##Series และ DataFrame\n",
        "\n",
        "Series (1D) - labeled, homogenous array of immutable size\n",
        "\n",
        "DataFrames (2D) - labeled, heterogeneously typed, size-mutable tabular data structures\n",
        "\n",
        "Series และ DataFrame เป็นเหมือนที่บรรจุข้อมูลเพื่อนำมาวิเคราะห์ในงาน data science \n",
        "\n",
        "Series หรือ อนุกรม คือชุดข้อมูลที่เรียงต่อกัน และเราจะอาศัยพื้นฐานความสามารถของ numpy\n",
        "\n",
        "DataFrame คือตารางของข้อมูล ซึ่งประกอบขึ้นจากหลาย ๆ Series\n",
        "\n",
        "ต่อไปเราจะใช้ประโยชน์จาก DataFrame"
      ]
    },
    {
      "cell_type": "markdown",
      "metadata": {
        "id": "pVteuE-MdHLe"
      },
      "source": [
        "###Creating a Series "
      ]
    },
    {
      "cell_type": "markdown",
      "metadata": {
        "id": "a2EQkAtEdfGR"
      },
      "source": [
        "**Creating an empty Series**"
      ]
    },
    {
      "cell_type": "code",
      "metadata": {
        "id": "Yll16kYRdLgD",
        "colab": {
          "base_uri": "https://localhost:8080/",
          "height": 106
        },
        "outputId": "a836dd51-9582-4dbf-807e-2fa08653ca50"
      },
      "source": [
        "myseries = pd.Series() # The Series() function creates a new Series\n",
        "print(myseries)\n",
        "type(myseries)"
      ],
      "execution_count": null,
      "outputs": [
        {
          "output_type": "stream",
          "text": [
            "Series([], dtype: float64)\n"
          ],
          "name": "stdout"
        },
        {
          "output_type": "stream",
          "text": [
            "/usr/local/lib/python3.6/dist-packages/ipykernel_launcher.py:1: DeprecationWarning: The default dtype for empty Series will be 'object' instead of 'float64' in a future version. Specify a dtype explicitly to silence this warning.\n",
            "  \"\"\"Entry point for launching an IPython kernel.\n"
          ],
          "name": "stderr"
        },
        {
          "output_type": "execute_result",
          "data": {
            "text/plain": [
              "pandas.core.series.Series"
            ]
          },
          "metadata": {
            "tags": []
          },
          "execution_count": 14
        }
      ]
    },
    {
      "cell_type": "code",
      "metadata": {
        "id": "IkiVuxPMe01P",
        "colab": {
          "base_uri": "https://localhost:8080/",
          "height": 206
        },
        "outputId": "c8d191d3-325b-49da-e04f-67f719ddb8b3"
      },
      "source": [
        "myseries1 = pd.Series(['สุดา','กันยา','สมพร','Ann','Pimpa'])\n",
        "print(myseries1)\n",
        "print(pd.Series([1,2,9,3])) #print ซีรีส์ออกมาจะอยู่ในรูปที่ดูเป็นระเบียบดูง่าย"
      ],
      "execution_count": null,
      "outputs": [
        {
          "output_type": "stream",
          "text": [
            "0     สุดา\n",
            "1    กันยา\n",
            "2     สมพร\n",
            "3      Ann\n",
            "4    Pimpa\n",
            "dtype: object\n",
            "0    1\n",
            "1    2\n",
            "2    9\n",
            "3    3\n",
            "dtype: int64\n"
          ],
          "name": "stdout"
        }
      ]
    },
    {
      "cell_type": "markdown",
      "metadata": {
        "id": "EA8MTrBdfUtp"
      },
      "source": [
        "dtype คือชนิดของข้อมูล เช่นเดียวกับในอาเรย์ของ numpy\n",
        "\n",
        "ชนิดข้อมูลสามารถระบุได้ตอนสร้างโดยเพิ่มคีย์เวิร์ด dtype"
      ]
    },
    {
      "cell_type": "code",
      "metadata": {
        "id": "V1ZJsfxzfnGa",
        "colab": {
          "base_uri": "https://localhost:8080/",
          "height": 156
        },
        "outputId": "d27d02ff-51d2-48cd-ae12-6b9a170ecbae"
      },
      "source": [
        "print(pd.Series([1,2,'9',3.1],dtype='int64')) # หรือ dtype=int"
      ],
      "execution_count": null,
      "outputs": [
        {
          "output_type": "stream",
          "text": [
            "0    1\n",
            "1    2\n",
            "2    9\n",
            "3    3\n",
            "dtype: int64\n"
          ],
          "name": "stdout"
        },
        {
          "output_type": "stream",
          "text": [
            "/usr/local/lib/python3.6/dist-packages/numpy/core/numeric.py:2327: FutureWarning: elementwise comparison failed; returning scalar instead, but in the future will perform elementwise comparison\n",
            "  return bool(asarray(a1 == a2).all())\n"
          ],
          "name": "stderr"
        }
      ]
    },
    {
      "cell_type": "markdown",
      "metadata": {
        "id": "wwYM5fXxdpRs"
      },
      "source": [
        "**Creating a series from an ndarray**"
      ]
    },
    {
      "cell_type": "code",
      "metadata": {
        "id": "FmQPnXOkdYrC",
        "colab": {
          "base_uri": "https://localhost:8080/",
          "height": 136
        },
        "outputId": "33000f28-14ef-4730-d586-27f1035a7e5c"
      },
      "source": [
        "# Note that indexes are a assigned automatically if not specifies\n",
        "arr = np.array([10,20,30,40,50])\n",
        "series1 = pd.Series(arr)\n",
        "print(series1)\n",
        "print(series1.index)"
      ],
      "execution_count": null,
      "outputs": [
        {
          "output_type": "stream",
          "text": [
            "0    10\n",
            "1    20\n",
            "2    30\n",
            "3    40\n",
            "4    50\n",
            "dtype: int64\n",
            "RangeIndex(start=0, stop=5, step=1)\n"
          ],
          "name": "stdout"
        }
      ]
    },
    {
      "cell_type": "markdown",
      "metadata": {
        "id": "uyv1cApjd9hu"
      },
      "source": [
        "**Creating a series from a Python dict**"
      ]
    },
    {
      "cell_type": "code",
      "metadata": {
        "id": "2DYcMNYud-r4",
        "colab": {
          "base_uri": "https://localhost:8080/",
          "height": 102
        },
        "outputId": "1f953517-37a1-4e14-f29d-7fa44c5d5a60"
      },
      "source": [
        "# Note that the keys of the dictionary are used to assign indexes during conversion\n",
        "data = {'a':10, 'b':20, 'c':30}\n",
        "series2 = pd.Series(data)\n",
        "print(series2)\n",
        "print(series2.index)"
      ],
      "execution_count": null,
      "outputs": [
        {
          "output_type": "stream",
          "text": [
            "a    10\n",
            "b    20\n",
            "c    30\n",
            "dtype: int64\n",
            "Index(['a', 'b', 'c'], dtype='object')\n"
          ],
          "name": "stdout"
        }
      ]
    },
    {
      "cell_type": "markdown",
      "metadata": {
        "id": "nDuh4n1kg2Ft"
      },
      "source": [
        "index เป็นได้ทั้งตัวเลข หรือตัวอักษร"
      ]
    },
    {
      "cell_type": "markdown",
      "metadata": {
        "id": "tTurHXw6eEY9"
      },
      "source": [
        "###**Retrieving a part of the series**"
      ]
    },
    {
      "cell_type": "code",
      "metadata": {
        "id": "yc2aU2LmeIG9",
        "colab": {
          "base_uri": "https://localhost:8080/",
          "height": 85
        },
        "outputId": "88ba8cf3-5980-4791-9d40-f80f06e75349"
      },
      "source": [
        "print(series1[1:4])"
      ],
      "execution_count": null,
      "outputs": [
        {
          "output_type": "stream",
          "text": [
            "1    20\n",
            "2    30\n",
            "3    40\n",
            "dtype: int64\n"
          ],
          "name": "stdout"
        }
      ]
    },
    {
      "cell_type": "markdown",
      "metadata": {
        "id": "zENe4xxSgHin"
      },
      "source": [
        "ข้อมูลภายในสามารถเข้าถึงได้โดยอาศัยดัชนีซึ่งอยู่ทางซ้าย \n",
        "\n",
        "เช่น"
      ]
    },
    {
      "cell_type": "code",
      "metadata": {
        "id": "GG__S4_lgLaK",
        "colab": {
          "base_uri": "https://localhost:8080/",
          "height": 68
        },
        "outputId": "9f2669d3-8b22-4f1c-d1a2-699c2b9a6091"
      },
      "source": [
        "myser = pd.Series(['สุดา','ลิชา','ติช่า','มาม่อน','พิพี'])\n",
        "print(myser[0])\n",
        "print(myser[2])\n",
        "print(myser.index)"
      ],
      "execution_count": null,
      "outputs": [
        {
          "output_type": "stream",
          "text": [
            "สุดา\n",
            "ติช่า\n",
            "RangeIndex(start=0, stop=5, step=1)\n"
          ],
          "name": "stdout"
        }
      ]
    },
    {
      "cell_type": "code",
      "metadata": {
        "id": "jQKUWLRfiMYH",
        "colab": {
          "base_uri": "https://localhost:8080/",
          "height": 119
        },
        "outputId": "54e9826b-5630-4bb3-f0ce-b4665feb5021"
      },
      "source": [
        "myser = pd.Series(['สุดา','ลิชา','ติช่า','มาม่อน','พิพี'],index=['๐๐๒','๐๐๕','๐๐๘','๐๑๑','๐๑๔']) \n",
        "#ใส่คีย์เวิร์ด index เพิ่มเข้าไปเองได้ตามที่เราต้องการ\n",
        "print(myser.index) #ดึงเอาแต่ค่า index ออกมา\n",
        "print(myser.values) #เอาเฉพาะค่าข้อมูลออกมาในรูปของ array\n",
        "print(myser[2])\n",
        "print(myser[2:4]) #การเข้าถึงข้อมูลเป็นกลุ่ม"
      ],
      "execution_count": null,
      "outputs": [
        {
          "output_type": "stream",
          "text": [
            "Index(['๐๐๒', '๐๐๕', '๐๐๘', '๐๑๑', '๐๑๔'], dtype='object')\n",
            "['สุดา' 'ลิชา' 'ติช่า' 'มาม่อน' 'พิพี']\n",
            "ติช่า\n",
            "๐๐๘     ติช่า\n",
            "๐๑๑    มาม่อน\n",
            "dtype: object\n"
          ],
          "name": "stdout"
        }
      ]
    },
    {
      "cell_type": "code",
      "metadata": {
        "id": "y-wvXKpuibwQ",
        "colab": {
          "base_uri": "https://localhost:8080/",
          "height": 85
        },
        "outputId": "92e37e87-3c9b-4640-f263-559e4c5e8762"
      },
      "source": [
        "print(myser[[2,1,4]])"
      ],
      "execution_count": null,
      "outputs": [
        {
          "output_type": "stream",
          "text": [
            "๐๐๘    ติช่า\n",
            "๐๐๕     ลิชา\n",
            "๐๑๔     พิพี\n",
            "dtype: object\n"
          ],
          "name": "stdout"
        }
      ]
    },
    {
      "cell_type": "markdown",
      "metadata": {
        "id": "Fm-Cb41Zj9oW"
      },
      "source": [
        "###การวิเคราะห์ข้อมูลใน Series"
      ]
    },
    {
      "cell_type": "code",
      "metadata": {
        "id": "w7BTN7RTkH4z",
        "colab": {
          "base_uri": "https://localhost:8080/",
          "height": 255
        },
        "outputId": "02fe07b4-d6d0-427a-e771-9b97a77965e5"
      },
      "source": [
        "stu = pd.Series(\n",
        "    [15.0,19.9,54.4,10.8,12.43,19.15],\n",
        "    index=['หมูน้อย','มานพ','สุดา','สิทธา','สามจอม','วันดี']\n",
        ")\n",
        "print(stu.sum()) \n",
        "print(stu.mean())\n",
        "print(stu.max()) \n",
        "print(stu.argmax()) \n",
        "print(stu.min()) \n",
        "print(stu.argmin())\n",
        "print(stu.std()) \n",
        "print(stu)"
      ],
      "execution_count": null,
      "outputs": [
        {
          "output_type": "stream",
          "text": [
            "131.68\n",
            "21.94666666666667\n",
            "54.4\n",
            "2\n",
            "10.8\n",
            "3\n",
            "16.299081773727828\n",
            "หมูน้อย    15.00\n",
            "มานพ       19.90\n",
            "สุดา       54.40\n",
            "สิทธา      10.80\n",
            "สามจอม     12.43\n",
            "วันดี      19.15\n",
            "dtype: float64\n"
          ],
          "name": "stdout"
        }
      ]
    },
    {
      "cell_type": "markdown",
      "metadata": {
        "id": "tYksEcPNlHnD"
      },
      "source": [
        "###การเพิ่มและแก้ไขข้อมูล"
      ]
    },
    {
      "cell_type": "code",
      "metadata": {
        "id": "Vnkm7fDjk7ql",
        "colab": {
          "base_uri": "https://localhost:8080/",
          "height": 170
        },
        "outputId": "583f0619-4fec-4b0f-9ca2-98da00fe022e"
      },
      "source": [
        "stu['มิตติ'] = 31.8 #การเพิ่ม\n",
        "stu['พาวา'] = 23.57 #การเพิ่ม\n",
        "stu['หมูน้อย'] = 30 #แก้ไขข้อมูล\n",
        "print(stu)"
      ],
      "execution_count": null,
      "outputs": [
        {
          "output_type": "stream",
          "text": [
            "หมูน้อย    30.00\n",
            "มานพ       19.90\n",
            "สุดา       54.40\n",
            "สิทธา      10.80\n",
            "สามจอม     12.43\n",
            "วันดี      19.15\n",
            "มิตติ      31.80\n",
            "พาวา       23.57\n",
            "dtype: float64\n"
          ],
          "name": "stdout"
        }
      ]
    },
    {
      "cell_type": "markdown",
      "metadata": {
        "id": "Zm0bkRj-loxp"
      },
      "source": [
        "Series เป็นแค่แถวของข้อมูลซึ่งมีเพียงมิติเดียว\n",
        "\n",
        "ถ้าเรามีข้อมูลหลายชุด จำเป็นจะต้องสร้าง Series หลายอัน\n",
        "\n",
        "Series หลายอันจะมารวมเข้าเป็นตาราง \n",
        "\n",
        "ตารางข้อมูลที่เกิดจากการรวมนั้นก็คือ DataFrames\n",
        "\n",
        "Series อาจเทียบได้กับ array 1 มิติ\n",
        "\n",
        "DataFrames อาจเทียบได้กับ array 2 มิติ"
      ]
    },
    {
      "cell_type": "markdown",
      "metadata": {
        "id": "da2GtVEHeQA0"
      },
      "source": [
        "##**DataFrames**\n",
        "1. A DataFrame is a 2D data structure in which data is aligned in a tabular fashion consisting of rows & columns\n",
        "2. A DataFrame can be created using the following constructor - pandas.DataFrame(data, index, dtype, copy)\n",
        "3. Data can be of multiple data types such as ndarray, list, constants, series, dict etc.\n",
        "4. Index Row and column labels of the dataframe; defaults to np.arrange(n) if no index is passed\n",
        "5. Data type of each column\n",
        "6. Creates a deep copy of the data, set to false as default"
      ]
    },
    {
      "cell_type": "markdown",
      "metadata": {
        "id": "8kqdxuRVejnt"
      },
      "source": [
        "###**Creating a DataFrame**\n",
        "\n",
        "DataFrame สามารถถูกสร้างขึ้นได้โดยใช้ \n",
        "```\n",
        "pd.DataFrame() \n",
        "```\n",
        "วิธีการสร้างนั้นมีหลายวิธี"
      ]
    },
    {
      "cell_type": "markdown",
      "metadata": {
        "id": "3un3C527epNF"
      },
      "source": [
        "**Converting a list into a DataFrame**"
      ]
    },
    {
      "cell_type": "code",
      "metadata": {
        "id": "8wWjPtLneshj",
        "colab": {
          "base_uri": "https://localhost:8080/",
          "height": 136
        },
        "outputId": "92e6edc4-1d20-41cd-8c6c-5fad83bb674d"
      },
      "source": [
        "list1 = [10, 20, 30, 40]\n",
        "print(list1[0])\n",
        "print(list1[2])\n",
        "table = pd.DataFrame(list1)\n",
        "print(table)"
      ],
      "execution_count": null,
      "outputs": [
        {
          "output_type": "stream",
          "text": [
            "10\n",
            "30\n",
            "    0\n",
            "0  10\n",
            "1  20\n",
            "2  30\n",
            "3  40\n"
          ],
          "name": "stdout"
        }
      ]
    },
    {
      "cell_type": "markdown",
      "metadata": {
        "id": "RpkQnQRqoLwv"
      },
      "source": [
        "ตัวอย่าง สร้างตารางข้อมูลของนักเรียน ซึ่งข้อมูลประกอบไปด้วยชื่อ, เพศ, ส่วนสูง และน้ำหนัก ข้อมูลแต่ละอย่างใส่ในคนละคอลัมน์ และหนึ่งแถวคือนักเรียนหนึ่งคน"
      ]
    },
    {
      "cell_type": "code",
      "metadata": {
        "id": "1xkiYkbunqUr",
        "colab": {
          "base_uri": "https://localhost:8080/",
          "height": 121
        },
        "outputId": "3b5171fe-6ef4-4070-f5d7-07b1e8090b2e"
      },
      "source": [
        "s = [['สุดา','ญ',150,64],\n",
        "     ['มานพ','ช',160,55],\n",
        "     ['ยานี','ญ',157,65]]\n",
        "print(s[0])\n",
        "print(s[2])\n",
        "stu = pd.DataFrame(s)\n",
        "print(stu)"
      ],
      "execution_count": null,
      "outputs": [
        {
          "output_type": "stream",
          "text": [
            "['สุดา', 'ญ', 150, 64]\n",
            "['ยานี', 'ญ', 157, 65]\n",
            "      0  1    2   3\n",
            "0  สุดา  ญ  150  64\n",
            "1  มานพ  ช  160  55\n",
            "2  ยานี  ญ  157  65\n"
          ],
          "name": "stdout"
        }
      ]
    },
    {
      "cell_type": "markdown",
      "metadata": {
        "id": "v5mugr96ewFI"
      },
      "source": [
        "**Creating a DataFrame from a list of dictionaries**"
      ]
    },
    {
      "cell_type": "code",
      "metadata": {
        "id": "goC4cI8Geyrp",
        "colab": {
          "base_uri": "https://localhost:8080/",
          "height": 68
        },
        "outputId": "5c7df433-eac7-48bc-8d75-24e9ea8f0fb2"
      },
      "source": [
        "data = [{'a':1, 'b':2}, {'a':2, 'b':4, 'c':8}]\n",
        "table1 = pd.DataFrame(data)\n",
        "print(table1)\n",
        "# NaN (not a number) is stored in areas where no data is provided"
      ],
      "execution_count": null,
      "outputs": [
        {
          "output_type": "stream",
          "text": [
            "   a  b    c\n",
            "0  1  2  NaN\n",
            "1  2  4  8.0\n"
          ],
          "name": "stdout"
        }
      ]
    },
    {
      "cell_type": "markdown",
      "metadata": {
        "id": "O4TlxGmZe28F"
      },
      "source": [
        "**Creating a DataFrame from a list of dictionaries and accompaying row indices**"
      ]
    },
    {
      "cell_type": "code",
      "metadata": {
        "id": "7pK9-YxFe8Qx",
        "colab": {
          "base_uri": "https://localhost:8080/",
          "height": 69
        },
        "outputId": "7b548cd2-e8cb-480e-fcee-2953a47f4a7a"
      },
      "source": [
        "table2 = pd.DataFrame(data, index = ['first', 'second'])\n",
        "# Dict keys become column lables\n",
        "print(table2)"
      ],
      "execution_count": null,
      "outputs": [
        {
          "output_type": "stream",
          "text": [
            "        a  b    c\n",
            "first   1  2  NaN\n",
            "second  2  4  8.0\n"
          ],
          "name": "stdout"
        }
      ]
    },
    {
      "cell_type": "markdown",
      "metadata": {
        "id": "hA1TaqJOfA5y"
      },
      "source": [
        "**Converting a dictionary of series into a DataFrame**"
      ]
    },
    {
      "cell_type": "code",
      "metadata": {
        "id": "9Y7tnQOlfCRx",
        "colab": {
          "base_uri": "https://localhost:8080/",
          "height": 103
        },
        "outputId": "f11388ad-835f-464e-ca4b-8622bb5d9fc9"
      },
      "source": [
        "data1 = {'one':pd.Series([1,2,3], index = ['a', 'b', 'c']),\n",
        "        'two':pd.Series([1,2,3,4], index = ['a', 'b', 'c', 'd'])}\n",
        "table3 = pd.DataFrame(data1)\n",
        "print(table3)\n",
        "# the resultant index is the union of all the series indexes passed"
      ],
      "execution_count": null,
      "outputs": [
        {
          "output_type": "stream",
          "text": [
            "   one  two\n",
            "a  1.0    1\n",
            "b  2.0    2\n",
            "c  3.0    3\n",
            "d  NaN    4\n"
          ],
          "name": "stdout"
        }
      ]
    },
    {
      "cell_type": "markdown",
      "metadata": {
        "id": "5avbmYaifIqj"
      },
      "source": [
        "###**Addition and Deletion**"
      ]
    },
    {
      "cell_type": "markdown",
      "metadata": {
        "id": "PVRsCI15fahk"
      },
      "source": [
        "**Addition & Deletion of Columns**"
      ]
    },
    {
      "cell_type": "code",
      "metadata": {
        "id": "omt5C96efjvq",
        "colab": {
          "base_uri": "https://localhost:8080/",
          "height": 103
        },
        "outputId": "74485b09-d11c-4820-e689-745a39c1f059"
      },
      "source": [
        "# A new column can be added to a DataFrame when the data is passed as a Series\n",
        "table3['three'] = pd.Series([10,20,30], index = ['a', 'b', 'c'])\n",
        "print(table3)"
      ],
      "execution_count": null,
      "outputs": [
        {
          "output_type": "stream",
          "text": [
            "   one  two  three\n",
            "a  1.0    1   10.0\n",
            "b  2.0    2   20.0\n",
            "c  3.0    3   30.0\n",
            "d  NaN    4    NaN\n"
          ],
          "name": "stdout"
        }
      ]
    },
    {
      "cell_type": "code",
      "metadata": {
        "id": "OcFZ62CUfnW5",
        "colab": {
          "base_uri": "https://localhost:8080/",
          "height": 103
        },
        "outputId": "e36a1031-6b19-4775-c2a0-952225262c20"
      },
      "source": [
        "# DataFrame columns can be deleted using the del() function\n",
        "del table3['one']\n",
        "print(table3)"
      ],
      "execution_count": null,
      "outputs": [
        {
          "output_type": "stream",
          "text": [
            "   two  three\n",
            "a    1   10.0\n",
            "b    2   20.0\n",
            "c    3   30.0\n",
            "d    4    NaN\n"
          ],
          "name": "stdout"
        }
      ]
    },
    {
      "cell_type": "code",
      "metadata": {
        "id": "9AAZz8MDfsMy",
        "colab": {
          "base_uri": "https://localhost:8080/",
          "height": 103
        },
        "outputId": "f11e1670-0b4d-4a7f-8297-10b7589994d4"
      },
      "source": [
        "# DataFrame columns can be deleted using the pop() function\n",
        "table3.pop('two')\n",
        "print(table3)"
      ],
      "execution_count": null,
      "outputs": [
        {
          "output_type": "stream",
          "text": [
            "   three\n",
            "a   10.0\n",
            "b   20.0\n",
            "c   30.0\n",
            "d    NaN\n"
          ],
          "name": "stdout"
        }
      ]
    },
    {
      "cell_type": "markdown",
      "metadata": {
        "id": "JipOCNyLfzBM"
      },
      "source": [
        "**Addition & Deletion of Rows**"
      ]
    },
    {
      "cell_type": "code",
      "metadata": {
        "id": "9kCiH_OAf0pf",
        "colab": {
          "base_uri": "https://localhost:8080/",
          "height": 68
        },
        "outputId": "d0d068e6-01f5-4863-ebea-d946220122e1"
      },
      "source": [
        "# DataFrame rows can be selected by passing the row lable to the loc() function\n",
        "print(table3.loc['c'])"
      ],
      "execution_count": null,
      "outputs": [
        {
          "output_type": "stream",
          "text": [
            "two       3.0\n",
            "three    30.0\n",
            "Name: c, dtype: float64\n"
          ],
          "name": "stdout"
        }
      ]
    },
    {
      "cell_type": "code",
      "metadata": {
        "id": "eGK5RIO2f8Pb",
        "colab": {
          "base_uri": "https://localhost:8080/",
          "height": 68
        },
        "outputId": "276b144c-fa16-4554-d690-955015e3fdc0"
      },
      "source": [
        "# Row selection can also be done using the row index\n",
        "print(table3.iloc[1])"
      ],
      "execution_count": null,
      "outputs": [
        {
          "output_type": "stream",
          "text": [
            "two       2.0\n",
            "three    20.0\n",
            "Name: b, dtype: float64\n"
          ],
          "name": "stdout"
        }
      ]
    },
    {
      "cell_type": "code",
      "metadata": {
        "id": "73jVFMRqgGrL",
        "colab": {
          "base_uri": "https://localhost:8080/",
          "height": 137
        },
        "outputId": "6c6ac55f-61c9-4383-9d5b-eb5805115457"
      },
      "source": [
        "# The append() function can be used to add more rows to the DataFrame\n",
        "data2 = {'one':pd.Series([1,2,3], index = ['a', 'b', 'c']),\n",
        "        'two':pd.Series([1,2,3,4], index = ['a', 'b', 'c', 'd'])}\n",
        "table5 = pd.DataFrame(data2)\n",
        "table5['three'] = pd.Series([10,20,30], index = ['a', 'b', 'c'])\n",
        "row = pd.DataFrame([[11,13],[17,19]], columns = ['two', 'three'])\n",
        "table6 = table5.append(row)\n",
        "print(table6)"
      ],
      "execution_count": null,
      "outputs": [
        {
          "output_type": "stream",
          "text": [
            "   one  two  three\n",
            "a  1.0    1   10.0\n",
            "b  2.0    2   20.0\n",
            "c  3.0    3   30.0\n",
            "d  NaN    4    NaN\n",
            "0  NaN   11   13.0\n",
            "1  NaN   17   19.0\n"
          ],
          "name": "stdout"
        }
      ]
    },
    {
      "cell_type": "code",
      "metadata": {
        "id": "nORqHMLDgQuD",
        "colab": {
          "base_uri": "https://localhost:8080/",
          "height": 120
        },
        "outputId": "16ae3512-9a1f-4f5d-b221-685d06e80dae"
      },
      "source": [
        "# The drop() function can be used to drop rows whose labels are provided\n",
        "table7 = table6.drop('a')\n",
        "print(table7)"
      ],
      "execution_count": null,
      "outputs": [
        {
          "output_type": "stream",
          "text": [
            "   one  two  three\n",
            "b  2.0    2   20.0\n",
            "c  3.0    3   30.0\n",
            "d  NaN    4    NaN\n",
            "0  NaN   11   13.0\n",
            "1  NaN   17   19.0\n"
          ],
          "name": "stdout"
        }
      ]
    },
    {
      "cell_type": "markdown",
      "metadata": {
        "id": "p3eNN7AO_uEl"
      },
      "source": [
        "##แบบฝึกหัด WS#2.1\n",
        "ขอให้นักศึกษาเพิ่มแถวข้อมูลให้กับ table6 \n",
        "\n",
        "โดยเพิ่มข้อมูล 4.5, 45, 45.5 ให้กับ columns = one, two, three ตามลำดับ"
      ]
    },
    {
      "cell_type": "code",
      "metadata": {
        "id": "Uk4S7gF9ChOR",
        "colab": {
          "base_uri": "https://localhost:8080/",
          "height": 154
        },
        "outputId": "330738ac-0608-470b-fd22-38cf79264c7e"
      },
      "source": [
        "#เขียน code ลงไปที่นี่\n",
        "#row = pd.DataFrame([....], columns = ['...])\n",
        "#table7 = .......\n",
        "\n"
      ],
      "execution_count": null,
      "outputs": [
        {
          "output_type": "stream",
          "text": [
            "   one  two  three\n",
            "a  1.0    1   10.0\n",
            "b  2.0    2   20.0\n",
            "c  3.0    3   30.0\n",
            "d  NaN    4    NaN\n",
            "0  NaN   11   13.0\n",
            "1  NaN   17   19.0\n",
            "0  4.5   45   45.5\n"
          ],
          "name": "stdout"
        }
      ]
    },
    {
      "cell_type": "markdown",
      "metadata": {
        "id": "_wSmklhYUgdD"
      },
      "source": [
        "# **Matplotlib**\n",
        "* Matplotlib is a Python library that is specially designed for the development of graphs, charts etc., in order to provide interactive data visualisation\n",
        "* Matplotlib is inspired from the MATLAB software and reproduces many of it's features"
      ]
    },
    {
      "cell_type": "markdown",
      "metadata": {
        "id": "Pov3jt_trA9V"
      },
      "source": [
        "เราต้องทำการติดตั้ง และ import ก่อน\n",
        "\n",
        "โดยเราจะใช้ numpy ควบคู่ไปด้วย"
      ]
    },
    {
      "cell_type": "code",
      "metadata": {
        "id": "FVJ7Aqguf7F5"
      },
      "source": [
        "# Import Matplotlib submodule for plotting\n",
        "import matplotlib.pyplot as  plt \n",
        "#pyplot เป็น lib ย่อยของ matplotlib "
      ],
      "execution_count": null,
      "outputs": []
    },
    {
      "cell_type": "markdown",
      "metadata": {
        "id": "TrQyrQF5rjwb"
      },
      "source": [
        "กราฟที่วาดได้ใน matplotlib มีหลายชนิดด้วยกัน เช่น กราฟเส้น, แผนภูมิแท่ง, แผนภูมิวงกลม, การกระจาย, ฯลฯ \n",
        "\n",
        "ขอเร่ิมจากกราฟเส้นธรรมดา\n"
      ]
    },
    {
      "cell_type": "markdown",
      "metadata": {
        "id": "xfbrhDMqg9fg"
      },
      "source": [
        "##Plotting in Matplotlib "
      ]
    },
    {
      "cell_type": "markdown",
      "metadata": {
        "id": "cZ6-JGnhr2hJ"
      },
      "source": [
        "ฟังก์ชัน plot \n",
        "\n",
        "อาร์กิวเมนต์ที่ต้องใส่ในฟังก์ชันนี้คือพิกัดในแนวแกน x และ y \n",
        "\n",
        "ข้อมูลที่ใส่ต้องเป็นออบเจ็กต์ชนิดลำดับ เช่น ลิสต์, ทูเพิล, เรนต์ และสามารถใช้อาเรย์ของ numpy ได้ด้วย\n",
        "\n",
        "การวาดกราฟด้วย matplotlib นั้นเราสามารถปรับแต่งได้ตามต้องการ \n",
        "\n",
        "เช่นสีเส้น, รูปแบบเส้น, ขอบเขตกราฟ, ชื่อแกน, คำอธิบายเพิ่มเติม, ฯลฯ"
      ]
    },
    {
      "cell_type": "code",
      "metadata": {
        "id": "EkLF3vZVsRCG",
        "colab": {
          "base_uri": "https://localhost:8080/",
          "height": 265
        },
        "outputId": "94cee260-d86c-400a-bd28-733f1e88a02c"
      },
      "source": [
        "# กำหนดค่าของ x และ y ที่จะใช้\n",
        "#x = [0, 1, 2, 3, 4, 5, 6, 7, 8, 9, 10]\n",
        "#y = [0.0, 0.84, 0.91, 0.14, -0.76, -0.96, -0.28, 0.66, 0.99, 0.41, -0.54]\n",
        "x = np.arange(0,11)\n",
        "y = np.sin(x)\n",
        "# เริ่มวาดกราฟ\n",
        "plt.plot(x,y) # คำสั่งวาดกราฟ\n",
        "plt.show() # คำสั่งให้แสดง\n",
        "#ขอขอบคุณตัวอย่างจากเว็บ https://phyblas.hinaboshi.com/numa05"
      ],
      "execution_count": null,
      "outputs": [
        {
          "output_type": "display_data",
          "data": {
            "image/png": "[encoded data removed]",
            "text/plain": [
              "<Figure size 432x288 with 1 Axes>"
            ]
          },
          "metadata": {
            "tags": [],
            "needs_background": "light"
          }
        }
      ]
    },
    {
      "cell_type": "markdown",
      "metadata": {
        "id": "6Z-3a5jltLHZ"
      },
      "source": [
        "##แบบฝึกหัด WS#2.2\n",
        "\n",
        "ขอให้นักศึกษาทดลองเปลี่ยนค่า\n",
        "```\n",
        "x = np.arange(0,11)\n",
        "y = np.sin(x)\n",
        "```\n",
        "แล้วใช้คำสั่งวาดกราฟและแสดงผล"
      ]
    },
    {
      "cell_type": "markdown",
      "metadata": {
        "id": "1vmkhiMVhU99"
      },
      "source": [
        "##กราฟหลายเส้น สี ตาราง และ scale"
      ]
    },
    {
      "cell_type": "code",
      "metadata": {
        "id": "r704wKGQhZyx",
        "colab": {
          "base_uri": "https://localhost:8080/",
          "height": 269
        },
        "outputId": "b1319391-79af-4f06-87b6-9bc9de99292a"
      },
      "source": [
        "# Multiple functions can be drawn on the same plot\n",
        "x = range(5)\n",
        "plt.plot(x, [x1 for x1 in x],ls='--')\n",
        "plt.plot(x, [x1*x1 for x1 in x],ls='--')\n",
        "plt.plot(x, [x1*x1*x1 for x1 in x],ls='--')\n",
        "plt.xlim(0, 4) # The scale of the plot can also be set using xlim() and ylim()\n",
        "plt.ylim(0, 80)\n",
        "plt.grid(True)\n",
        "plt.show()\n",
        "#สีของกราฟนี้ถูกกำหนดขึ้นโดยอัตโนมัติ  เส้นแรกเป็นสีน้ำเงิน เส้นต่อมาเป็นสีส้ม แล้วก็สีเขียว แล้วก็เปลี่ยนเป็นสีอื่นไปอีก "
      ],
      "execution_count": null,
      "outputs": [
        {
          "output_type": "display_data",
          "data": {
            "image/png": "[encoded data removed]",
            "text/plain": [
              "<Figure size 432x288 with 1 Axes>"
            ]
          },
          "metadata": {
            "tags": [],
            "needs_background": "light"
          }
        }
      ]
    },
    {
      "cell_type": "markdown",
      "metadata": {
        "id": "pSqrpvrBiaf-"
      },
      "source": [
        "##Adding Labels, Title, and Legend"
      ]
    },
    {
      "cell_type": "code",
      "metadata": {
        "id": "BnGSKAGBivkv",
        "colab": {
          "base_uri": "https://localhost:8080/",
          "height": 295
        },
        "outputId": "24301a8e-0abd-4eb7-d16d-2fb67d4063a6"
      },
      "source": [
        "x = np.arange(5)\n",
        "plt.plot(x, x, label = 'linear',ls='--')\n",
        "plt.plot(x, x*x, label = 'square',ls='-')\n",
        "plt.plot(x, x*x*x, label = 'cube',ls=':')\n",
        "plt.grid(True)\n",
        "plt.xlabel('X-axis')\n",
        "plt.ylabel('Y-axis')\n",
        "plt.title(\"Polynomial Graph\")\n",
        "plt.legend() #Legends explain the meaning of each line in the graph\n",
        "plt.show()"
      ],
      "execution_count": null,
      "outputs": [
        {
          "output_type": "display_data",
          "data": {
            "image/png": "[encoded data removed]",
            "text/plain": [
              "<Figure size 432x288 with 1 Axes>"
            ]
          },
          "metadata": {
            "tags": [],
            "needs_background": "light"
          }
        }
      ]
    },
    {
      "cell_type": "markdown",
      "metadata": {
        "id": "xSWWpNVei_2O"
      },
      "source": [
        "##Adding a Markers"
      ]
    },
    {
      "cell_type": "code",
      "metadata": {
        "id": "Fyp5Nv-WjCN0",
        "colab": {
          "base_uri": "https://localhost:8080/",
          "height": 265
        },
        "outputId": "b2e61696-feda-44bf-f71a-873b1b8a7cba"
      },
      "source": [
        "x = [1, 2, 3, 4, 5, 6]\n",
        "y = [11, 22, 33, 44, 55, 66]\n",
        "plt.plot(x, y, 'rD:') #bo is blue   '-.^g', 'o--m', 'rD:'\n",
        "for i in range(len(x)):\n",
        "    x_cord = x[i]\n",
        "    y_cord = y[i]\n",
        "    plt.text(x_cord, y_cord, (x_cord, y_cord), fontsize = 9)\n",
        "plt.show()"
      ],
      "execution_count": null,
      "outputs": [
        {
          "output_type": "display_data",
          "data": {
            "image/png": "[encoded data removed]",
            "text/plain": [
              "<Figure size 432x288 with 1 Axes>"
            ]
          },
          "metadata": {
            "tags": [],
            "needs_background": "light"
          }
        }
      ]
    },
    {
      "cell_type": "markdown",
      "metadata": {
        "id": "tm2UW3wujRQQ"
      },
      "source": [
        "##Saving Plots"
      ]
    },
    {
      "cell_type": "code",
      "metadata": {
        "id": "CHGS0FStjS-Q",
        "colab": {
          "base_uri": "https://localhost:8080/",
          "height": 295
        },
        "outputId": "1316fcaa-be3b-4ec3-d05b-8ca86a5ef4eb"
      },
      "source": [
        "# Plots can be saved using savefig()\n",
        "x = np.arange(5)\n",
        "plt.plot(x, x, label = 'linear')\n",
        "plt.plot(x, x*x, label = 'square')\n",
        "plt.plot(x, x*x*x, label = 'cube')\n",
        "plt.grid(True)\n",
        "plt.xlabel('X-axis')\n",
        "plt.ylabel('Y-axis')\n",
        "plt.title(\"Polynomial Graph\")\n",
        "plt.legend()\n",
        "plt.savefig('plot.png') # Saves an image names 'plot.png' in the current directory\n",
        "plt.show()"
      ],
      "execution_count": null,
      "outputs": [
        {
          "output_type": "display_data",
          "data": {
            "image/png": "[encoded data removed]",
            "text/plain": [
              "<Figure size 432x288 with 1 Axes>"
            ]
          },
          "metadata": {
            "tags": [],
            "needs_background": "light"
          }
        }
      ]
    },
    {
      "cell_type": "markdown",
      "metadata": {
        "id": "70_u1aW8kJDo"
      },
      "source": [
        "##**Plot Types**"
      ]
    },
    {
      "cell_type": "markdown",
      "metadata": {
        "id": "U6iP4lzSkNP6"
      },
      "source": [
        "Matplotlib provides many types of plot formats for visualising information\n",
        "\n",
        "1. Histogram\n",
        "2. Bar Graph\n",
        "3. Pie Chart\n",
        "4. Scatter Plot\n",
        "5. Boxplot\n",
        "\n",
        "เราต้องประกาศก่อน โดยใช้\n",
        "\n",
        "```\n",
        "import matplotlib.pyplot as plt \n",
        "```"
      ]
    },
    {
      "cell_type": "markdown",
      "metadata": {
        "id": "HR79Se0ikUCO"
      },
      "source": [
        "###**Histogram**\n",
        "Histograms display the distribution of a variable over a range of frequencies or values\n",
        "\n",
        "matplotlib มี functiob ที่ใช้สร้าง Histograms คือ plt.hist\n",
        "\n",
        "hist ต้องการ argument 1 ตัวคือกลุ่มข้อมูลที่ต้องการนำมาแจกแจงความถี่ \n",
        "\n",
        "และต้องการ bins คือจำนวนช่วงของข้อมูลที่ต้องการแบ่ง Default = 10"
      ]
    },
    {
      "cell_type": "code",
      "metadata": {
        "id": "KOy6eQ_vkj76",
        "colab": {
          "base_uri": "https://localhost:8080/",
          "height": 282
        },
        "outputId": "9dfd24d7-6969-4753-c200-408d95170efd"
      },
      "source": [
        "\n",
        "# Histogram groups values into non-overlapping categories called bins\n",
        "# Default bin value of the histogram plot is 10\n",
        "y1 = np.random.randn(50)\n",
        "y2 = np.random.randn(50)\n",
        "print(y)\n",
        "#plt.hist(y,bins=20,color='g')\n",
        "plt.hist([y1,y2],bins=10)\n",
        "plt.show()"
      ],
      "execution_count": null,
      "outputs": [
        {
          "output_type": "stream",
          "text": [
            "[11, 22, 33, 44, 55, 66]\n"
          ],
          "name": "stdout"
        },
        {
          "output_type": "display_data",
          "data": {
            "image/png": "[encoded data removed]",
            "text/plain": [
              "<Figure size 432x288 with 1 Axes>"
            ]
          },
          "metadata": {
            "tags": [],
            "needs_background": "light"
          }
        }
      ]
    },
    {
      "cell_type": "markdown",
      "metadata": {
        "id": "Ppj65mzSkqpb"
      },
      "source": [
        "###**Bar Chart**\n",
        "Bar charts are used to visually compare two or more values using rectangular bars\n",
        "\n",
        "สร้างแผนภูมิแท่ง จาก function bar \n",
        "\n",
        "ค่าที่ต้องใช้กำหนดกราฟ \n",
        "\n",
        "คือค่าในแกน x กับ y \n",
        "\n",
        "ค่าในแกน y เป็นความสูงของแท่ง"
      ]
    },
    {
      "cell_type": "code",
      "metadata": {
        "id": "dFu5B5Lnkxul",
        "colab": {
          "base_uri": "https://localhost:8080/",
          "height": 265
        },
        "outputId": "b2f25595-8cab-4137-eeba-64f791985ac8"
      },
      "source": [
        "# Default width of each bar is 0.8 units\n",
        "# [1,2,3] Mid-point of the lower face of every bar\n",
        "# [1,4,9] Heights of the successive bars in the plot\n",
        "plt.bar([1,2,3], [1,4,9])\n",
        "plt.show()"
      ],
      "execution_count": null,
      "outputs": [
        {
          "output_type": "display_data",
          "data": {
            "image/png": "[encoded data removed]",
            "text/plain": [
              "<Figure size 432x288 with 1 Axes>"
            ]
          },
          "metadata": {
            "tags": [],
            "needs_background": "light"
          }
        }
      ]
    },
    {
      "cell_type": "code",
      "metadata": {
        "id": "f4ZiKXevk188",
        "colab": {
          "base_uri": "https://localhost:8080/",
          "height": 265
        },
        "outputId": "a5381622-270d-42d1-8215-4de78db87eb3"
      },
      "source": [
        "dictionary = {'A':25, 'B':70, 'C':55, 'D':90}\n",
        "for i, key in enumerate(dictionary):\n",
        "    plt.bar(i, dictionary[key]) # Each key-value pair is plotted individually as dictionaries are not iterable\n",
        "plt.show()"
      ],
      "execution_count": null,
      "outputs": [
        {
          "output_type": "display_data",
          "data": {
            "image/png": "[encoded data removed]",
            "text/plain": [
              "<Figure size 432x288 with 1 Axes>"
            ]
          },
          "metadata": {
            "tags": [],
            "needs_background": "light"
          }
        }
      ]
    },
    {
      "cell_type": "code",
      "metadata": {
        "id": "HwwY4mORk5MO",
        "colab": {
          "base_uri": "https://localhost:8080/",
          "height": 265
        },
        "outputId": "58123b8d-14dd-43e9-d70f-fd1b8952a14b"
      },
      "source": [
        "dictionary = {'A':25, 'B':70, 'C':55, 'D':90}\n",
        "for i, key in enumerate(dictionary):\n",
        "    plt.bar(i, dictionary[key])\n",
        "plt.xticks(np.arange(len(dictionary)), dictionary.keys()) # Adds the keys as labels on the x-axis\n",
        "plt.show()"
      ],
      "execution_count": null,
      "outputs": [
        {
          "output_type": "display_data",
          "data": {
            "image/png": "[encoded data removed]",
            "text/plain": [
              "<Figure size 432x288 with 1 Axes>"
            ]
          },
          "metadata": {
            "tags": [],
            "needs_background": "light"
          }
        }
      ]
    },
    {
      "cell_type": "markdown",
      "metadata": {
        "id": "udZUbGoek_XH"
      },
      "source": [
        "###**Pie Chart**\n",
        "\n",
        "การสร้างแผนภูมิวงกลม ใช้ฟังก์ชัน pie โดยใส่argumentเป็น list หรือ array ของปริมาณตัวต่างๆ\n",
        "\n",
        "ดูตัวอย่างเพิ่มเติมได้จากเว็บ https://phyblas.hinaboshi.com/numa14"
      ]
    },
    {
      "cell_type": "code",
      "metadata": {
        "id": "t24KZ-1IlBNC",
        "colab": {
          "base_uri": "https://localhost:8080/",
          "height": 303
        },
        "outputId": "9b7b6db4-35ac-4c58-bd18-4167ac5b53fa"
      },
      "source": [
        "plt.figure(figsize = (5,5)) # Size of the plot in inches\n",
        "x = [40, 20, 5] # Proportions of the sectors\n",
        "labels = ['Bikes', 'Cars', 'Buses']\n",
        "plt.pie(x, labels = labels)\n",
        "plt.show()"
      ],
      "execution_count": null,
      "outputs": [
        {
          "output_type": "display_data",
          "data": {
            "image/png": "[encoded data removed]",
            "text/plain": [
              "<Figure size 360x360 with 1 Axes>"
            ]
          },
          "metadata": {
            "tags": []
          }
        }
      ]
    },
    {
      "cell_type": "markdown",
      "metadata": {
        "id": "nB_vfJ-llKjz"
      },
      "source": [
        "###**Scatter Plot**\n",
        "Scatter plots display values for two sets of data, visualised as a collection of points\n",
        "\n",
        "เป็นกราฟที่แสดงการกระจายของข้อมูล ทำให้เห็นการแจกแจงของค่าต่างๆบนกราฟได้ด้วย\n",
        "\n",
        "ใช้ function\n",
        "```\n",
        "plt.scatter\n",
        "```\n",
        "ตัวอย่างเช่น"
      ]
    },
    {
      "cell_type": "code",
      "metadata": {
        "id": "mRr5gsqUlQEn",
        "colab": {
          "base_uri": "https://localhost:8080/",
          "height": 265
        },
        "outputId": "840043f1-5248-483f-eed3-faf4ab6bec99"
      },
      "source": [
        "# Two Gaussion distribution plotted\n",
        "x = np.random.rand(1000)\n",
        "y = np.random.rand(1000)\n",
        "#plt.figure(figsize=[7,7]) # กำหนดขนาดภาพให้เป็นจตุรัส\n",
        "plt.scatter(x, y)\n",
        "plt.show()"
      ],
      "execution_count": null,
      "outputs": [
        {
          "output_type": "display_data",
          "data": {
            "image/png": "[encoded data removed]",
            "text/plain": [
              "<Figure size 432x288 with 1 Axes>"
            ]
          },
          "metadata": {
            "tags": [],
            "needs_background": "light"
          }
        }
      ]
    },
    {
      "cell_type": "markdown",
      "metadata": {
        "id": "GoKiuJUW5Soi"
      },
      "source": [
        "###Boxplots\n",
        "หรือ box and whisker plots \n",
        "\n",
        "เป็นหนึ่งในการแสดงกราฟข้อมูล Data Visualization ที่ช่วยทำให้เราเห็นลักษณะการกระจายของข้อมูล รวมถึง Outlier ได้เป็นอย่างดี\n",
        "\n",
        "เราจะเรียกใช้โดย\n",
        "\n",
        "```\n",
        "plt.boxplot(data)\n",
        "```\n",
        "ขอขอบคุณเว็บ https://matplotlib.org/3.2.2/api/_as_gen/matplotlib.pyplot.boxplot.html\n",
        "ตัวอย่างเช่น"
      ]
    },
    {
      "cell_type": "code",
      "metadata": {
        "id": "KHkxm61Y5Utf",
        "colab": {
          "base_uri": "https://localhost:8080/",
          "height": 264
        },
        "outputId": "fa44fd44-68eb-416a-faa0-eeda4f2c09ae"
      },
      "source": [
        "# Import libraries \n",
        "import matplotlib.pyplot as plt \n",
        "import numpy as np \n",
        "  \n",
        "  \n",
        "# Creating dataset \n",
        "np.random.seed(10) \n",
        "  \n",
        "data1 = np.random.normal(100, 10, 200) \n",
        "#print(data1)\n",
        "data2 = np.random.normal(90, 20, 200) \n",
        "mydata = [data1, data2] \n",
        "  \n",
        "fig = plt.figure(figsize =(5, 3)) \n",
        "  \n",
        "# Creating axes instance \n",
        "ax = fig.add_axes([0, 0, 1, 1]) \n",
        "  \n",
        "# Creating plot \n",
        "bp = ax.boxplot(mydata) \n",
        "  \n",
        "# show plot \n",
        "plt.show()"
      ],
      "execution_count": null,
      "outputs": [
        {
          "output_type": "display_data",
          "data": {
            "image/png": "[encoded data removed]",
            "text/plain": [
              "<Figure size 360x216 with 1 Axes>"
            ]
          },
          "metadata": {
            "tags": [],
            "needs_background": "light"
          }
        }
      ]
    },
    {
      "cell_type": "markdown",
      "metadata": {
        "id": "OJc8VHoYC_X4"
      },
      "source": [
        "##แบบฝึกหัด WS#2.3\n",
        "จากข้อมูลที่เก็บไว้ในตัวแปร data1, และ data2 ในตัวอย่างด้านบน\n",
        " ขอให้นักศึกษานำมาสร้างกราฟ Scatter Plot\n",
        "\n",
        "และจากข้อมูลที่เก็บไว้ในตัวแปร data1 ในตัวอย่างด้านบน ขอให้นักศึกษานำมาสร้างกราฟ Histogram โดยกำหนดจำนวนช่องที่ต้องการแบ่งเป็น 20"
      ]
    },
    {
      "cell_type": "code",
      "metadata": {
        "id": "N_7R6uKn9EEy"
      },
      "source": [
        "#เขียน code สร้างกราฟ Scatter Plot ลงไปที่นี่\n"
      ],
      "execution_count": null,
      "outputs": []
    },
    {
      "cell_type": "code",
      "metadata": {
        "id": "ukVgKP1w91tU"
      },
      "source": [
        "#เขียน code สร้างกราฟ Histogram  ลงไปที่นี่\n"
      ],
      "execution_count": null,
      "outputs": []
    },
    {
      "cell_type": "markdown",
      "metadata": {
        "id": "63jC3Ydo73gO"
      },
      "source": [
        "##แบบฝึกหัด WS#2.4\n",
        "\n",
        "เพื่อสะดวกในการเรียนรู้ ขอให้นักศึกษา download file ชื่อ iris.csv จากเว็บ https://is.gd/ZH7vRa\n",
        "\n",
        "นำไว้บนเครื่องขอตนเองก่อน จากนั้น ให้คัดลอกไฟล์ดังกล่าวไปไว้บน google drive ของตนเอง\n",
        "\n",
        "เช่น ในตัวอย่าง google drive เก็บไฟล์ iris.csv ไว้ใน folder ชื่อ dataset\n",
        "\n",
        "จากนั้น เราจะทำการ drive mount"
      ]
    },
    {
      "cell_type": "code",
      "metadata": {
        "id": "B9-7vGdY77pl",
        "colab": {
          "base_uri": "https://localhost:8080/",
          "height": 55
        },
        "outputId": "fdc36d11-94b0-4e62-a773-0afc7b2be6cc"
      },
      "source": [
        "from google.colab import drive\n",
        "drive.mount('/content/drive')"
      ],
      "execution_count": null,
      "outputs": [
        {
          "output_type": "stream",
          "text": [
            "Drive already mounted at /content/drive; to attempt to forcibly remount, call drive.mount(\"/content/drive\", force_remount=True).\n"
          ],
          "name": "stdout"
        }
      ]
    },
    {
      "cell_type": "code",
      "metadata": {
        "id": "8L6zWLx78CZ-"
      },
      "source": [
        "import pandas as pd\n",
        "\n",
        "iris = '/content/drive/My Drive/Colab Notebooks/dataset/iris.csv'\n",
        "data = pd.read_csv(iris)\n",
        "#print(data.head(10))\n",
        "#print(data.describe())\n",
        "#print(data.info() )"
      ],
      "execution_count": null,
      "outputs": []
    },
    {
      "cell_type": "code",
      "metadata": {
        "id": "oQoTi1nrNKtK",
        "colab": {
          "base_uri": "https://localhost:8080/",
          "height": 259
        },
        "outputId": "1063abfe-7cb2-44dd-a4a0-d2f999ac47a9"
      },
      "source": [
        "plt.figure(figsize = (5, 3)) \n",
        "x = data['sepal_length'] \n",
        "plt.hist(x, bins = 20, color = 'green') \n",
        "plt.title('Sepal Length in cm') \n",
        "plt.xlabel('Sepal_Length_cm') \n",
        "plt.ylabel('Count')"
      ],
      "execution_count": null,
      "outputs": [
        {
          "output_type": "execute_result",
          "data": {
            "text/plain": [
              "Text(0, 0.5, 'Count')"
            ]
          },
          "metadata": {
            "tags": []
          },
          "execution_count": 45
        },
        {
          "output_type": "display_data",
          "data": {
            "image/png": "[encoded data removed]",
            "text/plain": [
              "<Figure size 360x216 with 1 Axes>"
            ]
          },
          "metadata": {
            "tags": [],
            "needs_background": "light"
          }
        }
      ]
    },
    {
      "cell_type": "markdown",
      "metadata": {
        "id": "0ybTyLXkSYI3"
      },
      "source": [
        "จากข้อมูล iris data ขอให้นักศึกษานำมาสร้างกราฟ boxpot"
      ]
    },
    {
      "cell_type": "code",
      "metadata": {
        "id": "5jicKntoRx_9",
        "colab": {
          "base_uri": "https://localhost:8080/",
          "height": 52
        },
        "outputId": "8c86b783-d94c-43d0-89c0-e2a60b548d81"
      },
      "source": [
        "plt.figure(figsize = (10, 7)) \n",
        "#เขียน code สร้างกราฟ  ลงไปที่นี่"
      ],
      "execution_count": null,
      "outputs": [
        {
          "output_type": "execute_result",
          "data": {
            "text/plain": [
              "<Figure size 720x504 with 0 Axes>"
            ]
          },
          "metadata": {
            "tags": []
          },
          "execution_count": 43
        },
        {
          "output_type": "display_data",
          "data": {
            "text/plain": [
              "<Figure size 720x504 with 0 Axes>"
            ]
          },
          "metadata": {
            "tags": []
          }
        }
      ]
    },
    {
      "cell_type": "markdown",
      "metadata": {
        "id": "Zb8BUeO3S48J"
      },
      "source": [
        "ติดตามต่อ -->\n",
        "\n",
        "https://is.gd/59X73p\n",
        "\n",
        "Data preprocessing using Scikit-Learn and Pandas"
      ]
    }
  ]
}